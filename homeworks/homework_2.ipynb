{
 "cells": [
  {
   "cell_type": "markdown",
   "metadata": {},
   "source": [
    "# Homework II"
   ]
  },
  {
   "cell_type": "code",
   "execution_count": 3,
   "metadata": {
    "collapsed": false
   },
   "outputs": [
    {
     "data": {
      "text/plain": [
       "'en_US.UTF-8'"
      ]
     },
     "execution_count": 3,
     "metadata": {},
     "output_type": "execute_result"
    }
   ],
   "source": [
    "import numpy as np\n",
    "import locale\n",
    "locale.setlocale(locale.LC_ALL, \"\")"
   ]
  },
  {
   "cell_type": "markdown",
   "metadata": {},
   "source": [
    "### 1) Term structure of interest rates and swap valuation**\n",
    "\n",
    "*Suppose the current term structure of interest rates, assuming annual compounding, is as follows:*\n",
    "\n",
    "| s1   | s2   | s3   | s4   | s5   | s6   |\n",
    "|------|------|------|------|------|------|\n",
    "| 7.0% | 7.3% | 7.7% | 8.1% | 8.4% | 8.8% |\n",
    "*What is the discount rate d(0,4)? (Recall that interest rates are always quoted on an annual basis unless stated otherwise.)*"
   ]
  },
  {
   "cell_type": "code",
   "execution_count": 2,
   "metadata": {
    "collapsed": false
   },
   "outputs": [
    {
     "name": "stdout",
     "output_type": "stream",
     "text": [
      "The discount rate d(0,4) = 0.732\n"
     ]
    }
   ],
   "source": [
    "#Since the s4 is the rate associated in 4 years time, d(0,4) is, by definition:\n",
    "\n",
    "s4 = 8.1/100\n",
    "d0_4 = 1 / (1 + s4) ** 4\n",
    "d0_4 = round(d0_4, 3)\n",
    "\n",
    "print(\"The discount rate d(0,4) = {}\".format(d0_4))"
   ]
  },
  {
   "cell_type": "markdown",
   "metadata": {},
   "source": [
    "### 2) Swap Rates\n",
    "\n",
    "*Suppose a 6-year swap with a notional principal of $10 million is being configured. What is the fixed rate of interest that will make the value of the swap equal to zero. (You should use the term structure of interest rates from Question 1.)*"
   ]
  },
  {
   "cell_type": "markdown",
   "metadata": {},
   "source": [
    "Since the swap is a series of forward contracts: $V_A = N(1 - d(0,T)) - NX\\sum_{i=1}^{T}d(0,i) \\stackrel{set}{=} 0$\n",
    "\n",
    "Where $X$ is the fixed interest rate to pay\n",
    "\n",
    "Then\n",
    "$$\n",
    "    X = \\frac{1 - d(0,T)}{\\sum_{i=1}^{T}d(0,i)}\n",
    "$$"
   ]
  },
  {
   "cell_type": "code",
   "execution_count": 105,
   "metadata": {
    "collapsed": false
   },
   "outputs": [
    {
     "name": "stdout",
     "output_type": "stream",
     "text": [
      "The fixed interest X to pay is: 8.62%\n"
     ]
    }
   ],
   "source": [
    "# Term structure rates\n",
    "s = np.array([7, 7.3, 7.7, 8.1, 8.4, 8.8]) / 100\n",
    "# Discounted rates\n",
    "t = np.arange(1, 7)\n",
    "d = 1 / (1 + s) ** t\n",
    "\n",
    "X = (1 - d[-1]) / np.sum(d)\n",
    "\n",
    "print(\"The fixed interest X to pay is: {}%\".format(round(100*X, 2)))"
   ]
  },
  {
   "cell_type": "markdown",
   "metadata": {},
   "source": [
    "### 3) Hedging using futures\n",
    "\n",
    "*Suppose a farmer is expecting that her crop of oranges will be ready for harvest and sale as 150,000 pounds of orange juice in 3 months time. Suppose each orange juice futures contract is for 15,000 pounds of orange juice, and the current futures price is $F_0=118.65$ cents-per-pound. Assuming that the farmer has enough cash liquidity to fund any margin calls, what is the risk-free price that she can guarantee herself.*"
   ]
  },
  {
   "cell_type": "markdown",
   "metadata": {},
   "source": [
    "$F_0 = 118.65 \\text{ cents-per-pound}$"
   ]
  },
  {
   "cell_type": "markdown",
   "metadata": {},
   "source": [
    "### 4) Minimum variance hedge**\n",
    "\n",
    "*Suppose a farmer is expecting that her crop of grapefruit will be ready for harvest and sale as 150,000 pounds of grapefruit juice in 3 months time. She would like to use futures to hedge her risk but unfortunately there are no futures contracts on grapefruit juice. Instead she will use orange juice futures.*\n",
    "\n",
    "*Suppose each orange juice futures contract is for 15,000 pounds of orange juice and the current futures price is $F_0=118.65$ cents-per-pound. The volatility, i.e. the standard deviation, of the prices of orange juice and grape fruit juice is 20% and 25%, respectively, and the correlation coefficient is 0.7.*\n",
    "\n",
    "*What is the approximate number of contracts she should purchase to minimize the variance of her payoff?*"
   ]
  },
  {
   "cell_type": "markdown",
   "metadata": {},
   "source": [
    "She should purchase\n",
    "$$\n",
    "    y^* = \\frac{cov(F_t, P_t)}{\\sigma^2_{F}}\n",
    "$$\n",
    "\n",
    "Since\n",
    "$$\n",
    "    \\rho = \\frac{cov(X,Y)}{\\sigma_x\\sigma_y}\n",
    "$$\n",
    "\n",
    "Then, we can rewrite $y^*$ as\n",
    "$$\n",
    "    y^* = \\frac{\\rho\\sigma_F\\sigma_P}{\\sigma^2_{F}} = \\rho\\frac{\\sigma_P}{\\sigma_F}\n",
    "$$"
   ]
  },
  {
   "cell_type": "code",
   "execution_count": 10,
   "metadata": {
    "collapsed": false
   },
   "outputs": [
    {
     "name": "stdout",
     "output_type": "stream",
     "text": [
      "She should purchase 9 contracts\n"
     ]
    }
   ],
   "source": [
    "n_contracts = 0.7 * (0.25 / 0.20) * 10\n",
    "n_contracts = round(n_contracts)\n",
    "print(\"She should purchase {} contracts\".format(n_contracts))"
   ]
  },
  {
   "cell_type": "markdown",
   "metadata": {},
   "source": [
    "### 5) Call Options\n",
    "\n",
    "*Consider a 1-period binomial model with $R=1.02$, $S_0=100$, $u=\\frac{1}{d}=1.05$.*\n",
    "\n",
    "*Compute the value of a European call option on the stock with strike $K=102$. The stock does not pay dividends.*\n",
    "\n",
    "Payoff at $t = T$\n",
    "$$\n",
    "C(T) = max\\{S_T - K,0\\}\n",
    "$$\n",
    "\n",
    "price at $t = 0$\n",
    "$$\n",
    "    \\mathbb{E}[C] = \\frac{1}{R}[C_u(1)p + C_d(1)(1-p)]; \\ \\ p = \\frac{R - d}{u - d}\n",
    "$$"
   ]
  },
  {
   "cell_type": "code",
   "execution_count": 79,
   "metadata": {
    "collapsed": false
   },
   "outputs": [
    {
     "name": "stdout",
     "output_type": "stream",
     "text": [
      "\n",
      "        s0*u = 105.0 => Cu(1) = 3.0\n",
      "      /\n",
      "s0=100\n",
      "      \\\n",
      "        s0*d = 95.24 => Cd(1) = 0\n",
      "      \n",
      "The price of the option is $2.04\n"
     ]
    }
   ],
   "source": [
    "u = 1.05\n",
    "d = 1/u\n",
    "s0 = 100\n",
    "K = 102\n",
    "R = 1.02\n",
    "\n",
    "su = s0 * u\n",
    "sd = s0 * d\n",
    "\n",
    "print(\"\"\"\n",
    "        s0*u = {s_up} => Cu(1) = {pay_up}\n",
    "      /\n",
    "s0=100\n",
    "      \\\\\n",
    "        s0*d = {s_down} => Cd(1) = 0\n",
    "      \"\"\".format(s_up = su, s_down = round(sd,2), pay_up = su - K))\n",
    "\n",
    "p = (R - d) / (u - d)\n",
    "c0 = (3 * p + 0 * (1 - p)) / R\n",
    "c0 = locale.currency(c0)\n",
    "print(\"The price of the option is {}\".format(c0))"
   ]
  },
  {
   "cell_type": "markdown",
   "metadata": {},
   "source": [
    "### 6) Call Options II\n",
    "\n",
    "*When you construct the replicating portfolio for the option in the previous question how many dollars do you need to invest in the cash account?*"
   ]
  },
  {
   "cell_type": "markdown",
   "metadata": {},
   "source": [
    "Solving\n",
    "$$\n",
    "    uS_0x + Ry = C_u \\\\\n",
    "    dS_0x + Ry = C_d\n",
    "$$\n",
    "We find:\n",
    "$$\n",
    "    y = \\frac{uC_d - dC_u }{R[u - d]}\n",
    "$$"
   ]
  },
  {
   "cell_type": "code",
   "execution_count": 48,
   "metadata": {
    "collapsed": false
   },
   "outputs": [
    {
     "name": "stdout",
     "output_type": "stream",
     "text": [
      "We must invest -28.694 units in the cash account\n"
     ]
    }
   ],
   "source": [
    "y = (u * 0 - d * 3) / (R * (u - d)) \n",
    "y = round(y, 3)\n",
    "print(\"We must invest {y} units in the cash account\".format(y = y))"
   ]
  }
 ],
 "metadata": {
  "kernelspec": {
   "display_name": "Python 3",
   "language": "python",
   "name": "python3"
  },
  "language_info": {
   "codemirror_mode": {
    "name": "ipython",
    "version": 3
   },
   "file_extension": ".py",
   "mimetype": "text/x-python",
   "name": "python",
   "nbconvert_exporter": "python",
   "pygments_lexer": "ipython3",
   "version": "3.4.5"
  },
  "widgets": {
   "state": {},
   "version": "1.1.2"
  }
 },
 "nbformat": 4,
 "nbformat_minor": 0
}
