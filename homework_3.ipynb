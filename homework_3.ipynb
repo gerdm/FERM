{
 "cells": [
  {
   "cell_type": "code",
   "execution_count": 1,
   "metadata": {
    "collapsed": false
   },
   "outputs": [],
   "source": [
    "import numpy as np\n",
    "from numpy import exp,max, sqrt\n",
    "from FERM import Binomial_Option\n",
    "\n",
    "# Parameters used throughout the exercise as constants\n",
    "S0 = 100            # Spot price\n",
    "r = 0.02            # Fixed interest rate\n",
    "sigma = 0.30        # Volatility\n",
    "c = 0.01            # Dividend yield\n",
    "n = 15+1"
   ]
  },
  {
   "cell_type": "markdown",
   "metadata": {},
   "source": [
    "**1-5**"
   ]
  },
  {
   "cell_type": "markdown",
   "metadata": {},
   "source": [
    "# Homework III"
   ]
  },
  {
   "cell_type": "markdown",
   "metadata": {},
   "source": [
    "### 1)\n",
    "*Compute the price of an American call option with strike $K=110$ and maturity $T=.25$ years*"
   ]
  },
  {
   "cell_type": "code",
   "execution_count": 3,
   "metadata": {
    "collapsed": false
   },
   "outputs": [
    {
     "name": "stdout",
     "output_type": "stream",
     "text": [
      "$2.60\n"
     ]
    }
   ],
   "source": [
    "K = 110             # Strike Price\n",
    "T = 0.25            # Time to maturity\n",
    "\n",
    "option1 = Binomial_Option(S0, r, sigma, n, T, c)\n",
    "price = option1.option_price(K, form=\"call\", style=\"american\")\n",
    "print(\"${:.2f}\".format(price))"
   ]
  },
  {
   "cell_type": "markdown",
   "metadata": {},
   "source": [
    "### 2)\n",
    "Compute the price of an American put option with strike $K=110$ and maturity $T=.25$ years."
   ]
  },
  {
   "cell_type": "code",
   "execution_count": 4,
   "metadata": {
    "collapsed": false
   },
   "outputs": [
    {
     "name": "stdout",
     "output_type": "stream",
     "text": [
      "$12.37\n"
     ]
    }
   ],
   "source": [
    "K = 110             # Strike Price\n",
    "T = 0.25            # Time to maturity\n",
    "\n",
    "put1 = Binomial_Option(S0, r, sigma, n, T, c)\n",
    "price = put1.option_price(K, form=\"put\", style=\"american\")\n",
    "print(\"${:.2f}\".format(price))"
   ]
  },
  {
   "cell_type": "markdown",
   "metadata": {},
   "source": [
    "### 3), 4)\n",
    "*Is it ever optimal to exercise the put of Q2? If so, when it's the earliest?*"
   ]
  },
  {
   "cell_type": "markdown",
   "metadata": {},
   "source": [
    "It is optimal to exercise an american put option at time $t$, whenever \n",
    "$$\n",
    "\\max\\{C(t), E[C(t+1)]\\} = C(t)\n",
    "$$"
   ]
  },
  {
   "cell_type": "code",
   "execution_count": 5,
   "metadata": {
    "collapsed": false
   },
   "outputs": [
    {
     "name": "stdout",
     "output_type": "stream",
     "text": [
      "t: 0   0 \n",
      "t: 1   0   0 \n",
      "t: 2   0   0   0 \n",
      "t: 3   0   0   0   0 \n",
      "t: 4   0   0   0   0   0 \n",
      "t: 5   0   0   0   0   0   1 \n",
      "t: 6   0   0   0   0   0   0   1 \n",
      "t: 7   0   0   0   0   0   0   1   1 \n",
      "t: 8   0   0   0   0   0   0   1   1   1 \n",
      "t: 9   0   0   0   0   0   0   0   1   1   1 \n",
      "t:10   0   0   0   0   0   0   0   1   1   1   1 \n",
      "t:11   0   0   0   0   0   0   0   1   1   1   1   1 \n",
      "t:12   0   0   0   0   0   0   0   1   1   1   1   1   1 \n",
      "t:13   0   0   0   0   0   0   0   1   1   1   1   1   1   1 \n",
      "t:14   0   0   0   0   0   0   0   1   1   1   1   1   1   1   1 \n",
      "t:15   0   0   0   0   0   0   0   1   1   1   1   1   1   1   1   1 \n"
     ]
    }
   ],
   "source": [
    "# Substract the intrinsic value of the put (what we would recieve, were we to exercise),\n",
    "# from the risk-neutral expectation at time t.\n",
    "# If the intrinsic value is greater than the R.N. expected value, then it would be optimal \n",
    "# to early exercise.\n",
    "\n",
    "compare = np.array(put1.intrinsic_value_tree) - np.array(put1.present_val_tree)[1:]\n",
    "for t, branch in enumerate(compare[::-1]):\n",
    "    exercise = branch > 0\n",
    "    print(\"t:{:>2}\".format(t), end=\" \")\n",
    "    for v in exercise:\n",
    "        print(\"{:>3}\".format(v), end=\" \")\n",
    "    print()"
   ]
  },
  {
   "cell_type": "markdown",
   "metadata": {},
   "source": [
    "At $t=5$, if the option is *deep in the money*, then it is optimal, and the earliest, to exercise the american put."
   ]
  },
  {
   "cell_type": "markdown",
   "metadata": {},
   "source": [
    "### 5)\n",
    "*Do the call and put option prices of Questions 1 and 2 satisfy put-call parity?*"
   ]
  },
  {
   "cell_type": "markdown",
   "metadata": {},
   "source": [
    "Recall the put-call parity:\n",
    "$$\n",
    "    P_E + S = C_E + K\n",
    "$$\n",
    "\n",
    "Since *1)* and *2)* are 'american' options, the put-call parity does **not** hold."
   ]
  },
  {
   "cell_type": "markdown",
   "metadata": {},
   "source": [
    "### 6)\n",
    "Compute the fair value of an American call option with strike $K=110$ and maturity $n=10$ periods where the option is written on a **futures contract** that expires after 15 periods. The futures contract is on the same underlying security of the previous questions."
   ]
  },
  {
   "cell_type": "code",
   "execution_count": 6,
   "metadata": {
    "collapsed": false
   },
   "outputs": [
    {
     "name": "stdout",
     "output_type": "stream",
     "text": [
      "$2.61\n"
     ]
    }
   ],
   "source": [
    "n = 11\n",
    "K = 110\n",
    "putF = Binomial_Option(S0*put1.rate**(15), 0, sigma, n, T, c = c)\n",
    "price = putF.option_price(K, form = \"call\", style = \"american\")\n",
    "print(\"${:.2f}\".format(price))"
   ]
  },
  {
   "cell_type": "code",
   "execution_count": 12,
   "metadata": {
    "collapsed": false
   },
   "outputs": [
    {
     "name": "stdout",
     "output_type": "stream",
     "text": [
      "4.27960851848\n",
      "t  0   4.3\n",
      "t  1   2.5   5.2\n",
      "t  2   1.1   3.2   6.1\n",
      "t  3   0.2   1.5   4.1   7.2\n",
      "t  4   0.0   0.4   2.1   5.0   8.3\n",
      "t  5   0.0   0.0   0.5   2.9   6.1   9.4\n",
      "t  6   0.0   0.0   0.0   0.8   3.9   7.2  10.5\n"
     ]
    }
   ],
   "source": [
    "from FERM import Binomial_Option\n",
    "sigma = 1\n",
    "\n",
    "putF = Binomial_Option(100, 0, sigma, 6, 6/12)\n",
    "putF.u = 1.02\n",
    "putF.d = 0.99\n",
    "putF.rate = 1.01\n",
    "putF.tree = putF.asset_tree(futures=True)\n",
    "print(putF.option_price(102.15))\n",
    "putF.print_tree(\"option\")"
   ]
  },
  {
   "cell_type": "code",
   "execution_count": 13,
   "metadata": {
    "collapsed": false
   },
   "outputs": [
    {
     "name": "stdout",
     "output_type": "stream",
     "text": [
      "[10.466241926400002 7.153999516799999 3.9391760016000035 0.8189061191999798\n",
      " 0 0 0]\n",
      "[ 9.36216112  6.08239168  2.89908604  0.54593741  0.          0.        ]\n",
      "[ 8.26890464  5.0212898   2.11470316  0.36395828  0.        ]\n",
      "[ 7.18636636  4.05242759  1.53112153  0.24263885]\n",
      "[ 6.1417201   3.21199224  1.10162731]\n",
      "[ 5.16514415  2.50853726]\n",
      "[ 4.27960852]\n"
     ]
    }
   ],
   "source": [
    "for row in putF.option_price_tree:\n",
    "    print(row)"
   ]
  },
  {
   "cell_type": "code",
   "execution_count": 3,
   "metadata": {
    "collapsed": false
   },
   "outputs": [
    {
     "data": {
      "text/plain": [
       "6"
      ]
     },
     "execution_count": 3,
     "metadata": {},
     "output_type": "execute_result"
    }
   ],
   "source": [
    "futures = True\n",
    "3*2 if futures else 3"
   ]
  },
  {
   "cell_type": "code",
   "execution_count": 45,
   "metadata": {
    "collapsed": false
   },
   "outputs": [
    {
     "data": {
      "text/plain": [
       "106.15201506010001"
      ]
     },
     "execution_count": 45,
     "metadata": {},
     "output_type": "execute_result"
    }
   ],
   "source": [
    "100 * (1.01)**6"
   ]
  },
  {
   "cell_type": "code",
   "execution_count": 27,
   "metadata": {
    "collapsed": false
   },
   "outputs": [
    {
     "data": {
      "text/plain": [
       "array([ 108.36281658])"
      ]
     },
     "execution_count": 27,
     "metadata": {},
     "output_type": "execute_result"
    }
   ],
   "source": [
    "putF.tree[0] * 1.02 * (1.01)**(1/12)"
   ]
  },
  {
   "cell_type": "markdown",
   "metadata": {},
   "source": [
    "### 7)\n",
    "What is the earliest time period in which you might want to exercise the American futures option of Question 6?"
   ]
  },
  {
   "cell_type": "markdown",
   "metadata": {},
   "source": [
    "[Since:](http://www.math.nyu.edu/~cai/Courses/Derivatives/lecture8.pdf) *Given interest rate r > 0, it is never optimal to exercise an American call between ex-dividends dates or prior to maturity.*, it is better to exercise the call at maturity. i.e. $t=15$"
   ]
  },
  {
   "cell_type": "markdown",
   "metadata": {},
   "source": [
    "### 8)\n",
    "Compute the fair value of a chooser option which expires after n=10 periods. At expiration the owner of the chooser gets to choose (at no cost) a European call option or a European put option. The call and put each have strike K=100 and they mature 5 periods later, i.e. at n=15."
   ]
  },
  {
   "cell_type": "code",
   "execution_count": 28,
   "metadata": {
    "collapsed": false
   },
   "outputs": [
    {
     "name": "stdout",
     "output_type": "stream",
     "text": [
      "$12.55\n"
     ]
    }
   ],
   "source": [
    "chooser = Binomial_Option(S0, r, sigma, 5, T, c = c)\n",
    "price_call = chooser.option_price(100, form = \"call\", style = \"european\")\n",
    "price_put = chooser.option_price(100, form = \"put\", style = \"european\")\n",
    "chooser_price = (price_call + price_put)\n",
    "print(\"${:.2f}\".format(chooser_price))"
   ]
  }
 ],
 "metadata": {
  "kernelspec": {
   "display_name": "Python 3",
   "language": "python",
   "name": "python3"
  },
  "language_info": {
   "codemirror_mode": {
    "name": "ipython",
    "version": 3
   },
   "file_extension": ".py",
   "mimetype": "text/x-python",
   "name": "python",
   "nbconvert_exporter": "python",
   "pygments_lexer": "ipython3",
   "version": "3.4.5"
  },
  "widgets": {
   "state": {},
   "version": "1.1.2"
  }
 },
 "nbformat": 4,
 "nbformat_minor": 0
}
