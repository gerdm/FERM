{
 "cells": [
  {
   "cell_type": "code",
   "execution_count": 1,
   "metadata": {
    "collapsed": false
   },
   "outputs": [],
   "source": [
    "import numpy as np\n",
    "from numpy import exp,max, sqrt\n",
    "from FERM import Binomial_Option\n",
    "\n",
    "# Parameters used throughout the exercise as constants\n",
    "S0 = 100            # Spot price\n",
    "r = 0.02            # Fixed interest rate\n",
    "sigma = 0.30        # Volatility\n",
    "c = 0.01            # Dividend yield\n",
    "n = 16"
   ]
  },
  {
   "cell_type": "markdown",
   "metadata": {},
   "source": [
    "[Since:](http://www.math.nyu.edu/~cai/Courses/Derivatives/lecture8.pdf) *Given interest rate r > 0, it is never optimal to exercise an American call between ex-dividends dates or prior to maturity.*, it is better to exercise the call at maturity. i.e. $t=10$"
   ]
  },
  {
   "cell_type": "markdown",
   "metadata": {},
   "source": [
    "# Homework III"
   ]
  },
  {
   "cell_type": "markdown",
   "metadata": {},
   "source": [
    "### 1)\n",
    "*Compute the price of an American call option with strike $K=110$ and maturity $T=.25$ years*"
   ]
  },
  {
   "cell_type": "code",
   "execution_count": 2,
   "metadata": {
    "collapsed": false
   },
   "outputs": [
    {
     "name": "stdout",
     "output_type": "stream",
     "text": [
      "$2.60\n"
     ]
    }
   ],
   "source": [
    "K = 110             # Strike Price\n",
    "T = 0.25            # Time to maturity\n",
    "\n",
    "option1 = Binomial_Option(S0, r, sigma, n, T, c)\n",
    "option1.option_price(K, form=\"call\", style=\"american\")\n",
    "print(\"${:.2f}\".format(option1.price))"
   ]
  },
  {
   "cell_type": "markdown",
   "metadata": {},
   "source": [
    "### 2)\n",
    "Compute the price of an American put option with strike $K=110$ and maturity $T=.25$ years."
   ]
  },
  {
   "cell_type": "code",
   "execution_count": 3,
   "metadata": {
    "collapsed": false
   },
   "outputs": [
    {
     "name": "stdout",
     "output_type": "stream",
     "text": [
      "$12.37\n"
     ]
    }
   ],
   "source": [
    "K = 110             # Strike Price\n",
    "T = 0.25            # Time to maturity\n",
    "\n",
    "put1 = Binomial_Option(S0, r, sigma, n, T, c)\n",
    "put1.option_price(K, form=\"put\", style=\"american\")\n",
    "print(\"${:.2f}\".format(put1.price))"
   ]
  },
  {
   "cell_type": "markdown",
   "metadata": {},
   "source": [
    "### 3), 4)\n",
    "*Is it ever optimal to exercise the put of Q2? If so, when it's the earliest?*"
   ]
  },
  {
   "cell_type": "markdown",
   "metadata": {},
   "source": [
    "It is optimal to exercise an american put option at time $t$, whenever \n",
    "$$\n",
    "\\max\\{C(t), E[C(t+1)]\\} = C(t)\n",
    "$$\n",
    "\n",
    "That is, If the intrinsic value is greater or equal to the Risk-Neutral expected value, then it is optimal to exercise early"
   ]
  },
  {
   "cell_type": "code",
   "execution_count": 5,
   "metadata": {
    "collapsed": false
   },
   "outputs": [
    {
     "data": {
      "text/plain": [
       "5"
      ]
     },
     "execution_count": 5,
     "metadata": {},
     "output_type": "execute_result"
    }
   ],
   "source": [
    "put1.optimal_early_exercise()"
   ]
  },
  {
   "cell_type": "markdown",
   "metadata": {},
   "source": [
    "At $t=5$, if the option is *deep in the money*, then it is optimal, and the earliest, to exercise the american put."
   ]
  },
  {
   "cell_type": "markdown",
   "metadata": {},
   "source": [
    "### 5)\n",
    "*Do the call and put option prices of Questions 1 and 2 satisfy put-call parity?*"
   ]
  },
  {
   "cell_type": "markdown",
   "metadata": {},
   "source": [
    "Recall the put-call parity:\n",
    "$$\n",
    "    P_E + S = C_E + K\n",
    "$$\n",
    "\n",
    "Since *1)* and *2)* are 'american' options, the put-call parity does **not** hold."
   ]
  },
  {
   "cell_type": "markdown",
   "metadata": {},
   "source": [
    "### 6)\n",
    "Compute the fair value of an American call option with strike $K=110$ and maturity $n=10$ periods where the option is written on a **futures contract** that expires after 15 periods. The futures contract is on the same underlying security of the previous questions."
   ]
  },
  {
   "cell_type": "code",
   "execution_count": 1,
   "metadata": {
    "collapsed": false
   },
   "outputs": [
    {
     "name": "stdout",
     "output_type": "stream",
     "text": [
      "[ 147.42238796  136.43416451  126.26495544  116.85371498  108.14394743\n",
      "  100.08336807   92.62358922   85.71982983   79.33064664   73.41768536\n",
      "   67.9454505 ]\n"
     ]
    }
   ],
   "source": [
    "from FERM import *\n",
    "putF = Binomial_Option(S0=100, r=0.02, sigma=0.30, n_periods=15, T=0.25, c=0.01)\n",
    "\n",
    "prices = putF.tree[-1]\n",
    "for i in range(5):\n",
    "    prices, _ = putF.martingale_expectation(prices, 1, putF.q)\n",
    "prices\n",
    "\n",
    "print(prices)\n",
    "putF.option_price(110, form=\"call\", style=\"american\", custom_lattice=prices)"
   ]
  },
  {
   "cell_type": "code",
   "execution_count": 5,
   "metadata": {
    "collapsed": false
   },
   "outputs": [
    {
     "data": {
      "text/plain": [
       "[array([ 100.25031276]),\n",
       " array([ 104.20915855,   96.44186123]),\n",
       " array([ 108.32433763,  100.25031276,   92.77809058]),\n",
       " array([ 112.60202352,  104.20915855,   96.44186123,   89.25350446]),\n",
       " array([ 117.04863355,  108.32433763,  100.25031276,   92.77809058,\n",
       "          85.86281534]),\n",
       " array([ 121.67083849,  112.60202352,  104.20915855,   96.44186123,\n",
       "          89.25350446,   82.60093654]),\n",
       " array([ 126.4755725 ,  117.04863355,  108.32433763,  100.25031276,\n",
       "          92.77809058,   85.86281534,   79.46297463]),\n",
       " array([ 131.47004358,  121.67083849,  112.60202352,  104.20915855,\n",
       "          96.44186123,   89.25350446,   82.60093654,   76.44422208]),\n",
       " array([ 136.66174438,  126.4755725 ,  117.04863355,  108.32433763,\n",
       "         100.25031276,   92.77809058,   85.86281534,   79.46297463,\n",
       "          73.5401502 ]),\n",
       " array([ 142.05846343,  131.47004358,  121.67083849,  112.60202352,\n",
       "         104.20915855,   96.44186123,   89.25350446,   82.60093654,\n",
       "          76.44422208,   70.74640233]),\n",
       " array([ 147.6682968 ,  136.66174438,  126.4755725 ,  117.04863355,\n",
       "         108.32433763,  100.25031276,   92.77809058,   85.86281534,\n",
       "          79.46297463,   73.5401502 ,   68.05878734])]"
      ]
     },
     "execution_count": 5,
     "metadata": {},
     "output_type": "execute_result"
    }
   ],
   "source": [
    "putF.asset_tree(100.250312760579, 10)"
   ]
  },
  {
   "cell_type": "markdown",
   "metadata": {},
   "source": [
    "### 7)\n",
    "What is the earliest time period in which you might want to exercise the American futures option of Question 6?"
   ]
  },
  {
   "cell_type": "code",
   "execution_count": 19,
   "metadata": {
    "collapsed": false
   },
   "outputs": [
    {
     "name": "stdout",
     "output_type": "stream",
     "text": [
      "t: 1   0 \n",
      "t: 2   0   0 \n",
      "t: 3   0   0   0 \n",
      "t: 4   0   0   0   0 \n",
      "t: 5   0   0   0   0   0 \n",
      "t: 6   0   0   0   0   0   0 \n",
      "t: 7   1   0   0   0   0   0   0 \n",
      "t: 8   1   0   0   0   0   0   0   0 \n",
      "t: 9   1   1   0   0   0   0   0   0   0 \n",
      "t:10   1   1   1   0   0   0   0   0   0   0 \n"
     ]
    }
   ],
   "source": [
    "compare = np.array(putF.intrinsic_value_tree) - np.array(putF.present_val_tree)[1:]\n",
    "for t, branch in enumerate(compare[::-1]):\n",
    "    exercise = [round(x,5) > 0 for x in branch]\n",
    "    print(\"t:{:>2}\".format(t+1), end=\" \")\n",
    "    for v in exercise:\n",
    "        print(\"{:>3}\".format(v), end=\" \")\n",
    "    print()"
   ]
  },
  {
   "cell_type": "markdown",
   "metadata": {},
   "source": [
    "### 8)\n",
    "*Compute the fair value of a chooser option which expires after n=10 periods. At expiration the owner of the chooser gets to choose (at no cost) a European call option or a European put option. The call and put each have strike K=100 and they mature 5 periods later, i.e. at n=15.*"
   ]
  },
  {
   "cell_type": "markdown",
   "metadata": {},
   "source": [
    "Since the option is chosen up until $t=10$, we must compute the possible paths of the stock at $t=10$. Once knowing all the possible paths of the stock at that time, we must compute a 5 period option from both the call and put options. For each possible path, take the biggest between the two.  Finally, roll back the binomial tree with the computed prices down to $t=0$"
   ]
  },
  {
   "cell_type": "code",
   "execution_count": 28,
   "metadata": {
    "collapsed": false
   },
   "outputs": [
    {
     "name": "stdout",
     "output_type": "stream",
     "text": [
      "$14.58\n"
     ]
    }
   ],
   "source": [
    "chooser = Binomial_Option(100, r, sigma, 11, T=0.25, c=c)\n",
    "\n",
    "prices = []\n",
    "\n",
    "for s10 in chooser.tree[-1]:\n",
    "    put = Binomial_Option(s10, r, sigma, 16, T=0.25, c=c)\n",
    "    put.option_price(100, form=\"put\", style=\"european\")\n",
    "    \n",
    "    call = Binomial_Option(s10, r, sigma, 16, T=0.25, c=c)\n",
    "    call.option_price(100, form=\"call\", style=\"european\")\n",
    "\n",
    "    prices.append(np.max([put.price, call.price]))\n",
    "    \n",
    "chooser.tree[-1] = np.array(prices)\n",
    "chooser.option_price(K=0)\n",
    "\n",
    "print(\"${:.2f}\".format(chooser.price))"
   ]
  },
  {
   "cell_type": "code",
   "execution_count": 29,
   "metadata": {
    "collapsed": false
   },
   "outputs": [
    {
     "name": "stdout",
     "output_type": "stream",
     "text": [
      "11.6379807452\n"
     ]
    }
   ],
   "source": [
    "chooser_price = 0\n",
    "\n",
    "chooser = Binomial_Option(100, r, sigma, 10, T=0.25, c=c)\n",
    "chooser.option_price(100, form=\"call\", style=\"european\")\n",
    "chooser_price += chooser.price\n",
    "\n",
    "d = chooser.rate\n",
    "chooser = Binomial_Option(100*exp(-c*0.25/10), r, sigma, 10, T=0.25, c=c)\n",
    "chooser.option_price(100*exp(-r*0.25/10), form=\"put\", style=\"european\")\n",
    "chooser_price += chooser.price\n",
    "\n",
    "print(chooser_price)"
   ]
  }
 ],
 "metadata": {
  "anaconda-cloud": {},
  "kernelspec": {
   "display_name": "Python [default]",
   "language": "python",
   "name": "python3"
  },
  "language_info": {
   "codemirror_mode": {
    "name": "ipython",
    "version": 3
   },
   "file_extension": ".py",
   "mimetype": "text/x-python",
   "name": "python",
   "nbconvert_exporter": "python",
   "pygments_lexer": "ipython3",
   "version": "3.4.5"
  }
 },
 "nbformat": 4,
 "nbformat_minor": 0
}
