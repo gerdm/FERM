{
 "cells": [
  {
   "cell_type": "code",
   "execution_count": 1,
   "metadata": {
    "collapsed": false
   },
   "outputs": [],
   "source": [
    "import numpy as np\n",
    "from numpy import exp,max, sqrt\n",
    "from FERM import Binomial_Option\n",
    "\n",
    "# Parameters used throughout the exercise as constants\n",
    "S0 = 100            # Spot price\n",
    "r = 0.02            # Fixed interest rate\n",
    "sigma = 0.30        # Volatility\n",
    "c = 0.01            # Dividend yield\n",
    "n = 16"
   ]
  },
  {
   "cell_type": "markdown",
   "metadata": {},
   "source": [
    "[Since:](http://www.math.nyu.edu/~cai/Courses/Derivatives/lecture8.pdf) *Given interest rate r > 0, it is never optimal to exercise an American call between ex-dividends dates or prior to maturity.*, it is better to exercise the call at maturity. i.e. $t=10$"
   ]
  },
  {
   "cell_type": "markdown",
   "metadata": {},
   "source": [
    "# Homework III"
   ]
  },
  {
   "cell_type": "markdown",
   "metadata": {},
   "source": [
    "### 1)\n",
    "*Compute the price of an American call option with strike $K=110$ and maturity $T=.25$ years*"
   ]
  },
  {
   "cell_type": "code",
   "execution_count": 2,
   "metadata": {
    "collapsed": false
   },
   "outputs": [
    {
     "name": "stdout",
     "output_type": "stream",
     "text": [
      "$2.60\n"
     ]
    }
   ],
   "source": [
    "K = 110             # Strike Price\n",
    "T = 0.25            # Time to maturity\n",
    "\n",
    "option1 = Binomial_Option(S0, r, sigma, n, T, c)\n",
    "option1.option_price(K, form=\"call\", style=\"american\")\n",
    "print(\"${:.2f}\".format(option1.price))"
   ]
  },
  {
   "cell_type": "markdown",
   "metadata": {},
   "source": [
    "### 2)\n",
    "Compute the price of an American put option with strike $K=110$ and maturity $T=.25$ years."
   ]
  },
  {
   "cell_type": "code",
   "execution_count": 5,
   "metadata": {
    "collapsed": false
   },
   "outputs": [
    {
     "name": "stdout",
     "output_type": "stream",
     "text": [
      "$12.37\n"
     ]
    }
   ],
   "source": [
    "K = 110             # Strike Price\n",
    "T = 0.25            # Time to maturity\n",
    "\n",
    "put1 = Binomial_Option(S0, r, sigma, n, T, c)\n",
    "put1.option_price(K, form=\"put\", style=\"american\")\n",
    "print(\"${:.2f}\".format(put1.price))"
   ]
  },
  {
   "cell_type": "markdown",
   "metadata": {},
   "source": [
    "### 3), 4)\n",
    "*Is it ever optimal to exercise the put of Q2? If so, when it's the earliest?*"
   ]
  },
  {
   "cell_type": "markdown",
   "metadata": {},
   "source": [
    "It is optimal to exercise an american put option at time $t$, whenever \n",
    "$$\n",
    "\\max\\{C(t), E[C(t+1)]\\} = C(t)\n",
    "$$\n",
    "\n",
    "That is, If the intrinsic value is greater or equal to the Risk-Neutral expected value, then it is optimal to exercise early"
   ]
  },
  {
   "cell_type": "code",
   "execution_count": 5,
   "metadata": {
    "collapsed": false
   },
   "outputs": [
    {
     "data": {
      "text/plain": [
       "5"
      ]
     },
     "execution_count": 5,
     "metadata": {},
     "output_type": "execute_result"
    }
   ],
   "source": [
    "put1.optimal_early_exercise()"
   ]
  },
  {
   "cell_type": "markdown",
   "metadata": {},
   "source": [
    "At $t=5$, if the option is *deep in the money*, then it is optimal, and the earliest, to exercise the american put."
   ]
  },
  {
   "cell_type": "markdown",
   "metadata": {},
   "source": [
    "### 5)\n",
    "*Do the call and put option prices of Questions 1 and 2 satisfy put-call parity?*"
   ]
  },
  {
   "cell_type": "markdown",
   "metadata": {},
   "source": [
    "Recall the put-call parity:\n",
    "$$\n",
    "    P_E + S = C_E + K\n",
    "$$\n",
    "\n",
    "Since *1)* and *2)* are 'american' options, the put-call parity does **not** hold."
   ]
  },
  {
   "cell_type": "markdown",
   "metadata": {},
   "source": [
    "### 6)\n",
    "Compute the fair value of an American call option with strike $K=110$ and maturity $n=10$ periods where the option is written on a **futures contract** that expires after 15 periods. The futures contract is on the same underlying security of the previous questions."
   ]
  },
  {
   "cell_type": "code",
   "execution_count": 12,
   "metadata": {
    "collapsed": false
   },
   "outputs": [
    {
     "data": {
      "text/plain": [
       "1.6651388420235214"
      ]
     },
     "execution_count": 12,
     "metadata": {},
     "output_type": "execute_result"
    }
   ],
   "source": [
    "from FERM import *\n",
    "putF = Binomial_Option(S0=100, r=0.02, sigma=0.30, n_periods=15, T=0.25, c=0.01)\n",
    "putF.futures_option(110, fform=\"call\", fstyle=\"american\", time_maturity=10)\n",
    "putF.price"
   ]
  },
  {
   "cell_type": "markdown",
   "metadata": {},
   "source": [
    "### 7)\n",
    "What is the earliest time period in which you might want to exercise the American futures option of Question 6?"
   ]
  },
  {
   "cell_type": "code",
   "execution_count": 11,
   "metadata": {
    "collapsed": false
   },
   "outputs": [
    {
     "ename": "ValueError",
     "evalue": "operands could not be broadcast together with shapes (25,) (10,) ",
     "output_type": "error",
     "traceback": [
      "\u001b[0;31m---------------------------------------------------------------------------\u001b[0m",
      "\u001b[0;31mValueError\u001b[0m                                Traceback (most recent call last)",
      "\u001b[0;32m<ipython-input-11-67c7deae9c0b>\u001b[0m in \u001b[0;36m<module>\u001b[0;34m()\u001b[0m\n\u001b[0;32m----> 1\u001b[0;31m \u001b[0mcompare\u001b[0m \u001b[0;34m=\u001b[0m \u001b[0mnp\u001b[0m\u001b[0;34m.\u001b[0m\u001b[0marray\u001b[0m\u001b[0;34m(\u001b[0m\u001b[0mputF\u001b[0m\u001b[0;34m.\u001b[0m\u001b[0mintrinsic_value_tree\u001b[0m\u001b[0;34m)\u001b[0m \u001b[0;34m-\u001b[0m \u001b[0mnp\u001b[0m\u001b[0;34m.\u001b[0m\u001b[0marray\u001b[0m\u001b[0;34m(\u001b[0m\u001b[0mputF\u001b[0m\u001b[0;34m.\u001b[0m\u001b[0mpresent_val_tree\u001b[0m\u001b[0;34m)\u001b[0m\u001b[0;34m[\u001b[0m\u001b[0;36m1\u001b[0m\u001b[0;34m:\u001b[0m\u001b[0;34m]\u001b[0m\u001b[0;34m\u001b[0m\u001b[0m\n\u001b[0m\u001b[1;32m      2\u001b[0m \u001b[0;32mfor\u001b[0m \u001b[0mt\u001b[0m\u001b[0;34m,\u001b[0m \u001b[0mbranch\u001b[0m \u001b[0;32min\u001b[0m \u001b[0menumerate\u001b[0m\u001b[0;34m(\u001b[0m\u001b[0mcompare\u001b[0m\u001b[0;34m[\u001b[0m\u001b[0;34m:\u001b[0m\u001b[0;34m:\u001b[0m\u001b[0;34m-\u001b[0m\u001b[0;36m1\u001b[0m\u001b[0;34m]\u001b[0m\u001b[0;34m)\u001b[0m\u001b[0;34m:\u001b[0m\u001b[0;34m\u001b[0m\u001b[0m\n\u001b[1;32m      3\u001b[0m     \u001b[0mexercise\u001b[0m \u001b[0;34m=\u001b[0m \u001b[0;34m[\u001b[0m\u001b[0mround\u001b[0m\u001b[0;34m(\u001b[0m\u001b[0mx\u001b[0m\u001b[0;34m,\u001b[0m\u001b[0;36m5\u001b[0m\u001b[0;34m)\u001b[0m \u001b[0;34m>\u001b[0m \u001b[0;36m0\u001b[0m \u001b[0;32mfor\u001b[0m \u001b[0mx\u001b[0m \u001b[0;32min\u001b[0m \u001b[0mbranch\u001b[0m\u001b[0;34m]\u001b[0m\u001b[0;34m\u001b[0m\u001b[0m\n\u001b[1;32m      4\u001b[0m     \u001b[0mprint\u001b[0m\u001b[0;34m(\u001b[0m\u001b[0;34m\"t:{:>2}\"\u001b[0m\u001b[0;34m.\u001b[0m\u001b[0mformat\u001b[0m\u001b[0;34m(\u001b[0m\u001b[0mt\u001b[0m\u001b[0;34m+\u001b[0m\u001b[0;36m1\u001b[0m\u001b[0;34m)\u001b[0m\u001b[0;34m,\u001b[0m \u001b[0mend\u001b[0m\u001b[0;34m=\u001b[0m\u001b[0;34m\" \"\u001b[0m\u001b[0;34m)\u001b[0m\u001b[0;34m\u001b[0m\u001b[0m\n\u001b[1;32m      5\u001b[0m     \u001b[0;32mfor\u001b[0m \u001b[0mv\u001b[0m \u001b[0;32min\u001b[0m \u001b[0mexercise\u001b[0m\u001b[0;34m:\u001b[0m\u001b[0;34m\u001b[0m\u001b[0m\n",
      "\u001b[0;31mValueError\u001b[0m: operands could not be broadcast together with shapes (25,) (10,) "
     ]
    }
   ],
   "source": [
    "compare = np.array(putF.intrinsic_value_tree) - np.array(putF.present_val_tree)[1:]\n",
    "for t, branch in enumerate(compare[::-1]):\n",
    "    exercise = [round(x,5) > 0 for x in branch]\n",
    "    print(\"t:{:>2}\".format(t+1), end=\" \")\n",
    "    for v in exercise:\n",
    "        print(\"{:>3}\".format(v), end=\" \")\n",
    "    print()"
   ]
  },
  {
   "cell_type": "markdown",
   "metadata": {},
   "source": [
    "### 8)\n",
    "*Compute the fair value of a chooser option which expires after n=10 periods. At expiration the owner of the chooser gets to choose (at no cost) a European call option or a European put option. The call and put each have strike K=100 and they mature 5 periods later, i.e. at n=15.*"
   ]
  },
  {
   "cell_type": "markdown",
   "metadata": {},
   "source": [
    "Since the option is chosen up until $t=10$, we must compute the possible paths of the stock at $t=10$. Once knowing all the possible paths of the stock at that time, we must compute a 5 period option from both the call and put options. For each possible path, take the biggest between the two.  Finally, roll back the binomial tree with the computed prices down to $t=0$"
   ]
  },
  {
   "cell_type": "code",
   "execution_count": 28,
   "metadata": {
    "collapsed": false
   },
   "outputs": [
    {
     "name": "stdout",
     "output_type": "stream",
     "text": [
      "$14.58\n"
     ]
    }
   ],
   "source": [
    "chooser = Binomial_Option(100, r, sigma, 11, T=0.25, c=c)\n",
    "\n",
    "prices = []\n",
    "\n",
    "for s10 in chooser.tree[-1]:\n",
    "    put = Binomial_Option(s10, r, sigma, 16, T=0.25, c=c)\n",
    "    put.option_price(100, form=\"put\", style=\"european\")\n",
    "    \n",
    "    call = Binomial_Option(s10, r, sigma, 16, T=0.25, c=c)\n",
    "    call.option_price(100, form=\"call\", style=\"european\")\n",
    "\n",
    "    prices.append(np.max([put.price, call.price]))\n",
    "    \n",
    "chooser.tree[-1] = np.array(prices)\n",
    "chooser.option_price(K=0)\n",
    "\n",
    "print(\"${:.2f}\".format(chooser.price))"
   ]
  },
  {
   "cell_type": "code",
   "execution_count": 29,
   "metadata": {
    "collapsed": false
   },
   "outputs": [
    {
     "name": "stdout",
     "output_type": "stream",
     "text": [
      "11.6379807452\n"
     ]
    }
   ],
   "source": [
    "chooser_price = 0\n",
    "\n",
    "chooser = Binomial_Option(100, r, sigma, 10, T=0.25, c=c)\n",
    "chooser.option_price(100, form=\"call\", style=\"european\")\n",
    "chooser_price += chooser.price\n",
    "\n",
    "d = chooser.rate\n",
    "chooser = Binomial_Option(100*exp(-c*0.25/10), r, sigma, 10, T=0.25, c=c)\n",
    "chooser.option_price(100*exp(-r*0.25/10), form=\"put\", style=\"european\")\n",
    "chooser_price += chooser.price\n",
    "\n",
    "print(chooser_price)"
   ]
  }
 ],
 "metadata": {
  "anaconda-cloud": {},
  "kernelspec": {
   "display_name": "Python [default]",
   "language": "python",
   "name": "python3"
  },
  "language_info": {
   "codemirror_mode": {
    "name": "ipython",
    "version": 3
   },
   "file_extension": ".py",
   "mimetype": "text/x-python",
   "name": "python",
   "nbconvert_exporter": "python",
   "pygments_lexer": "ipython3",
   "version": "3.4.5"
  }
 },
 "nbformat": 4,
 "nbformat_minor": 0
}
