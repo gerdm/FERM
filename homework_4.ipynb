{
 "cells": [
  {
   "cell_type": "code",
   "execution_count": 1,
   "metadata": {
    "collapsed": true
   },
   "outputs": [],
   "source": [
    "import numpy as np\n",
    "from FERM import Term_Structure, Binomial_Option"
   ]
  },
  {
   "cell_type": "code",
   "execution_count": 2,
   "metadata": {
    "collapsed": false
   },
   "outputs": [],
   "source": [
    "r00 = 5/100\n",
    "n = 9\n",
    "u = 1.1\n",
    "d = 0.9\n",
    "q = 1/2\n",
    "\n",
    "lattice1 = Term_Structure(r00, u, d, q, n)"
   ]
  },
  {
   "cell_type": "code",
   "execution_count": 3,
   "metadata": {
    "collapsed": false
   },
   "outputs": [
    {
     "name": "stdout",
     "output_type": "stream",
     "text": [
      "t:  0 0.050\n",
      "t:  1 0.045 0.055\n",
      "t:  2 0.041 0.050 0.061\n",
      "t:  3 0.036 0.045 0.054 0.067\n",
      "t:  4 0.033 0.040 0.049 0.060 0.073\n",
      "t:  5 0.030 0.036 0.044 0.054 0.066 0.081\n",
      "t:  6 0.027 0.032 0.040 0.049 0.059 0.072 0.089\n",
      "t:  7 0.024 0.029 0.036 0.044 0.053 0.065 0.080 0.097\n",
      "t:  8 0.022 0.026 0.032 0.039 0.048 0.059 0.072 0.088 0.107\n",
      "t:  9 0.019 0.024 0.029 0.035 0.043 0.053 0.065 0.079 0.096 0.118\n"
     ]
    }
   ],
   "source": [
    "lattice1.print_tree()"
   ]
  }
 ],
 "metadata": {
  "anaconda-cloud": {},
  "kernelspec": {
   "display_name": "Python [default]",
   "language": "python",
   "name": "python3"
  },
  "language_info": {
   "codemirror_mode": {
    "name": "ipython",
    "version": 3
   },
   "file_extension": ".py",
   "mimetype": "text/x-python",
   "name": "python",
   "nbconvert_exporter": "python",
   "pygments_lexer": "ipython3",
   "version": "3.4.5"
  }
 },
 "nbformat": 4,
 "nbformat_minor": 1
}
