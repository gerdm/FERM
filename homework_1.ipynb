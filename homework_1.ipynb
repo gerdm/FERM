{
 "cells": [
  {
   "cell_type": "code",
   "execution_count": 2,
   "metadata": {
    "collapsed": false
   },
   "outputs": [],
   "source": [
    "import locale\n",
    "locale.setlocale( locale.LC_ALL, \"\");"
   ]
  },
  {
   "cell_type": "markdown",
   "metadata": {},
   "source": [
    "# Homework I"
   ]
  },
  {
   "cell_type": "markdown",
   "metadata": {},
   "source": [
    "\n",
    "**1) Lottery payments**\n",
    "\n",
    "*A major lottery advertises that it pays the winner \\$10 million. However this prize money is paid at the rate of $500,000 each year (with the first payment being immediate) for a total of 20 payments. What is the present value of this prize at 10% interest compounded annually?*"
   ]
  },
  {
   "cell_type": "markdown",
   "metadata": {},
   "source": [
    "Present value of $n$ future payments, starting one year from now, is:\n",
    "\n",
    "$$\n",
    "    PV = \\sum_{t = 1}^{n} \\frac{A}{(1 + r)^n} = \\frac{A}{r}\\left(1 - \\frac{1}{(1 + r) ^ n}\\right)\n",
    "$$\n",
    "\n",
    "Since the first payments starts at $t = 0$ then, the present value for the prize is:\n",
    "\n",
    "$$\n",
    "    PV = A + \\frac{A}{r}\\left(1 - \\frac{1}{(1 + r) ^ n}\\right)\n",
    "$$"
   ]
  },
  {
   "cell_type": "code",
   "execution_count": 20,
   "metadata": {
    "collapsed": false
   },
   "outputs": [
    {
     "name": "stdout",
     "output_type": "stream",
     "text": [
      "The present value of the price is $4,682,460.05\n"
     ]
    }
   ],
   "source": [
    "n = 19\n",
    "A = 500e3\n",
    "r = 0.10\n",
    "PV = A + A / r * (1 - 1 / (1 + r) ** n)\n",
    "PV = locale.currency(PV, grouping=True)\n",
    "print(\"The present value of the price is {}\".format(PV))"
   ]
  },
  {
   "cell_type": "markdown",
   "metadata": {},
   "source": [
    "**2) Sunk Costs**\n",
    "\n",
    "*A young couple has made a deposit of the first month's rent (equal to \\$1,000) on a 6-month apartment lease. The deposit is refundable at the end of six months if they stay until the end of the lease. The next day they find a different apartment that they like just as well, but its monthly rent is only \\$900. And they would again have to put a deposit of $900 refundable at the end of 6 months. They plan to be in the apartment only 6 months. Should they switch to the new apartment? Assume an (admittedly unrealistic!) interest rate of 12% per month compounded monthly.*"
   ]
  },
  {
   "cell_type": "markdown",
   "metadata": {},
   "source": [
    "<img src=\"FullSizeRender.jpg\" alt=\"Drawing\" style=\"height: 200px;\"/>"
   ]
  },
  {
   "cell_type": "markdown",
   "metadata": {},
   "source": [
    "They should switch apartments if the present value of the first 5 payments discounted by the last of the first appartment is greater than the second apartment"
   ]
  },
  {
   "cell_type": "code",
   "execution_count": 7,
   "metadata": {
    "collapsed": false
   },
   "outputs": [
    {
     "data": {
      "text/plain": [
       "'Stay'"
      ]
     },
     "execution_count": 7,
     "metadata": {},
     "output_type": "execute_result"
    }
   ],
   "source": [
    "PV = lambda A, r, n: A / r * (1 - 1 / (1 + r) ** n)\n",
    "r = 0.12\n",
    "### Present Value of total payment for both apartments ###\n",
    "apartment1 = PV(1000, r, 5) - 1000 / (1 + r) ** 6\n",
    "# Since they had already payed $1,000, They total cost would be\n",
    "# the future monthly payoffs plus the money deposited at the\n",
    "# beginning on the apartment 1 discounted by the PV of the\n",
    "# return in the money.\n",
    "apartment2 = 1000 + PV(900, r, 5) - 900 / (1 + r) ** 6\n",
    "\n",
    "\"Stay\" if apartment1 < apartment2 else \"Switch\""
   ]
  },
  {
   "cell_type": "markdown",
   "metadata": {},
   "source": [
    "**3) Relation between spot and discount rates**\n",
    "\n",
    "*Suppose the spot rates for 1 and 2 years are $s1=6.3\\%$ and $s2=6.9\\%$ with annual compounding. Recall that in this course interest rates are always quoted on an annual basis unless otherwise specified. What is the discount rate $d(0,2)$?*"
   ]
  },
  {
   "cell_type": "code",
   "execution_count": 41,
   "metadata": {
    "collapsed": false
   },
   "outputs": [
    {
     "data": {
      "text/plain": [
       "0.875"
      ]
     },
     "execution_count": 41,
     "metadata": {},
     "output_type": "execute_result"
    }
   ],
   "source": [
    "d0_2 = 1 / (1 + 0.069) ** 2\n",
    "round(d0_2, 3)"
   ]
  },
  {
   "cell_type": "markdown",
   "metadata": {},
   "source": [
    "**4) Relation between spot and forward rates**\n",
    "\n",
    "*Suppose the spot rates for 1 and 2 years are $s1=6.3\\%$ and $s2=6.9\\%$ with annual compounding. Recall that in this course interest rates are always quoted on an annual basis unless otherwise specified. What is the forward rate, $f_{1,2}$ assuming annual compounding?*"
   ]
  },
  {
   "cell_type": "markdown",
   "metadata": {},
   "source": [
    "By the no-arbitrage principle:\n",
    "$$\n",
    "    (1 + f_{0,1})(1 + f_{1,2}) = (1 + f_{0,2})^2\n",
    "$$\n",
    "where $r_i = f_{0,i}$ is the spot rate for $i$ years, then\n",
    "$$\n",
    "    f_{1,2} = \\frac{(1 + f_{0,2})^2}{1 + f_{0,1}} - 1\n",
    "$$"
   ]
  },
  {
   "cell_type": "code",
   "execution_count": 25,
   "metadata": {
    "collapsed": false
   },
   "outputs": [
    {
     "name": "stdout",
     "output_type": "stream",
     "text": [
      "f1_2 = 7.5%\n"
     ]
    }
   ],
   "source": [
    "r1 = 0.063\n",
    "r2 = 0.069\n",
    "\n",
    "f1_2 = (1 + r2) ** 2 / (1 + r1) - 1\n",
    "print(\"f1_2 = {frate:.1%}\".format(frate = f1_2))"
   ]
  },
  {
   "cell_type": "markdown",
   "metadata": {},
   "source": [
    "**5) Forward contract on a stock**\n",
    "\n",
    "*The current price of a stock is $\\$400$ per share and it pays no dividends. Assuming a constant interest rate of $8\\%$ per year compounded quarterly, what is the stock's theoretical forward price for delivery in 9 months?*"
   ]
  },
  {
   "cell_type": "code",
   "execution_count": 41,
   "metadata": {
    "collapsed": false
   },
   "outputs": [
    {
     "name": "stdout",
     "output_type": "stream",
     "text": [
      "The price for the forward is: $424.48\n"
     ]
    }
   ],
   "source": [
    "# Computing the discount rate\n",
    "d0_1 = 1 / (1 + 0.08 / 4) ** 3\n",
    "f_stock = 400 / d0_1\n",
    "print(\"The price for the forward is: {}\".format(locale.currency(f_stock, grouping=True)))"
   ]
  },
  {
   "cell_type": "markdown",
   "metadata": {},
   "source": [
    "**6) Bounds using different lending and borrowing rate**\n",
    "\n",
    "*Suppose the borrowing rate $r_B=10\\%$ compounded annually. However, the lending rate (or equivalently, the interest rate on deposits) is only $8\\%$ compounded annually. Compute the difference between the upper and lower bounds on the price of an perpetuity that pays $A=10,000\\$$ per year.*\n"
   ]
  },
  {
   "cell_type": "markdown",
   "metadata": {},
   "source": [
    "The present value of a perpetuity is given by\n",
    "$$\n",
    "    PV = \\frac{A}{r}\n",
    "$$\n",
    "\n",
    "then, the difference between the upper and lower bound for the present value of the perpetuity is:\n",
    "$$\n",
    "    A\\left(\\frac{1}{r_L} - \\frac{1}{r_B}\\right)\n",
    "$$"
   ]
  },
  {
   "cell_type": "code",
   "execution_count": 32,
   "metadata": {
    "collapsed": false
   },
   "outputs": [
    {
     "name": "stdout",
     "output_type": "stream",
     "text": [
      "The difference between the upper bound and the lower bound is: $25,000.00\n"
     ]
    }
   ],
   "source": [
    "rB, rL = 0.10, 0.08\n",
    "A = 10e3\n",
    "diff = A * (1 / rL - 1 / rB)\n",
    "\n",
    "print(\"The difference between the upper bound and the lower bound is: {}\".format(locale.currency(diff, grouping=True)))"
   ]
  },
  {
   "cell_type": "markdown",
   "metadata": {},
   "source": [
    "**7) Value of a Forward contract at an intermediate time**\n",
    "\n",
    "*Suppose we hold a forward contract on a stock with expiration 6 months from now. We entered into this contract 6 months ago so that when we entered into the contract, the expiration was $T=1$ year. The stock price 6 months ago was $S_0=100$, the current stock price is $S_6 = 125$ and the current interest rate is $r=10\\%$ compounded semi-annually. (This is the same rate that prevailed 6 months ago.) What is the current value of our forward contract?*"
   ]
  },
  {
   "cell_type": "code",
   "execution_count": 23,
   "metadata": {
    "collapsed": false
   },
   "outputs": [
    {
     "name": "stdout",
     "output_type": "stream",
     "text": [
      "The present value of the contract is $20.00\n"
     ]
    }
   ],
   "source": [
    "S0 = 100\n",
    "S6 = 125\n",
    "\n",
    "r = 0.10 / 2\n",
    "\n",
    "F0 = S0 * (1 + r) # Price of the forward specified at t=0, one period in the future\n",
    "\n",
    "F6 = S6 - F0\n",
    "\n",
    "print(\"The present value of the contract is {}\".format(locale.currency(F6)))"
   ]
  }
 ],
 "metadata": {
  "kernelspec": {
   "display_name": "Python 3",
   "language": "python",
   "name": "python3"
  },
  "language_info": {
   "codemirror_mode": {
    "name": "ipython",
    "version": 3
   },
   "file_extension": ".py",
   "mimetype": "text/x-python",
   "name": "python",
   "nbconvert_exporter": "python",
   "pygments_lexer": "ipython3",
   "version": "3.4.5"
  },
  "widgets": {
   "state": {},
   "version": "1.1.2"
  }
 },
 "nbformat": 4,
 "nbformat_minor": 0
}
